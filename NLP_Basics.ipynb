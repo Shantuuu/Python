{
  "nbformat": 4,
  "nbformat_minor": 0,
  "metadata": {
    "colab": {
      "provenance": [],
      "authorship_tag": "ABX9TyM4qEUlNJ1v7AzSa95ymLh0",
      "include_colab_link": true
    },
    "kernelspec": {
      "name": "python3",
      "display_name": "Python 3"
    },
    "language_info": {
      "name": "python"
    }
  },
  "cells": [
    {
      "cell_type": "markdown",
      "metadata": {
        "id": "view-in-github",
        "colab_type": "text"
      },
      "source": [
        "<a href=\"https://colab.research.google.com/github/Shantuuu/Python/blob/main/NLP_Basics.ipynb\" target=\"_parent\"><img src=\"https://colab.research.google.com/assets/colab-badge.svg\" alt=\"Open In Colab\"/></a>"
      ]
    },
    {
      "cell_type": "markdown",
      "source": [
        "## Tokenisation\n"
      ],
      "metadata": {
        "id": "zcBy9dj41woI"
      }
    },
    {
      "cell_type": "code",
      "execution_count": null,
      "metadata": {
        "id": "636M7S5HD1i6"
      },
      "outputs": [],
      "source": [
        "import tensorflow as tf\n",
        "from tensorflow import keras\n",
        "from tensorflow.keras.preprocessing.text import Tokenizer\n"
      ]
    },
    {
      "cell_type": "code",
      "source": [
        "import json\n",
        "import tensorflow as tf\n",
        "\n",
        "from tensorflow.keras.preprocessing.text import Tokenizer\n",
        "from tensorflow.keras.preprocessing.sequence import pad_sequences"
      ],
      "metadata": {
        "id": "ibx9GFZpPopx"
      },
      "execution_count": null,
      "outputs": []
    },
    {
      "cell_type": "code",
      "source": [
        "sentences=[\n",
        "    'I love my dog!!',\n",
        "    'I love my cat',\n",
        "    'You love my dog!',\n",
        "    'Do you think honry my dog is amazing?',\n",
        "    'Wtf is wrong with this world!!!'\n",
        "]\n"
      ],
      "metadata": {
        "id": "a9gnn2Qb1nhZ"
      },
      "execution_count": null,
      "outputs": []
    },
    {
      "cell_type": "code",
      "source": [
        "#Used to set Limit on the Tokens fit the INstance to This case\n",
        "tokenizer= Tokenizer(num_words=100,oov_token=\"OOV\")\n",
        "tokenizer.fit_on_texts(sentences)\n",
        "\n",
        "#Use to Create Index for the Each Token\n",
        "word_index=tokenizer.word_index\n",
        "print(word_index)"
      ],
      "metadata": {
        "colab": {
          "base_uri": "https://localhost:8080/"
        },
        "id": "U8HZCwaX1rXY",
        "outputId": "052ef81a-6a5f-4540-cf19-15df517bdc67"
      },
      "execution_count": null,
      "outputs": [
        {
          "output_type": "stream",
          "name": "stdout",
          "text": [
            "{'OOV': 1, 'my': 2, 'love': 3, 'dog': 4, 'i': 5, 'you': 6, 'is': 7, 'horny': 8, 'cat': 9, 'do': 10, 'think': 11, 'honry': 12, 'amazing': 13, 'wtf': 14, 'wrong': 15, 'with': 16, 'this': 17, 'world': 18}\n"
          ]
        }
      ]
    },
    {
      "cell_type": "markdown",
      "source": [
        "## Seqeuncing and Fine Tuning"
      ],
      "metadata": {
        "id": "Ss9AHzgW2_s8"
      }
    },
    {
      "cell_type": "code",
      "source": [
        "#Create a sequences of the Tokens according to the case\n",
        "sequences= tokenizer.texts_to_sequences(sentences)\n",
        "print(sequences)"
      ],
      "metadata": {
        "colab": {
          "base_uri": "https://localhost:8080/"
        },
        "id": "fDF1pnoc1un6",
        "outputId": "75a3e8a8-40c8-4146-db09-0487231e2634"
      },
      "execution_count": null,
      "outputs": [
        {
          "output_type": "stream",
          "name": "stdout",
          "text": [
            "[[5, 3, 2, 8, 4], [5, 3, 2, 9], [6, 3, 2, 4], [10, 6, 11, 12, 2, 4, 7, 13], [14, 7, 15, 16, 17, 18]]\n"
          ]
        }
      ]
    },
    {
      "cell_type": "code",
      "source": [
        "test_data=[\n",
        "    'I really love my Golden Retriver dog',\n",
        "    'My dog loves my manatee'\n",
        "]\n",
        "\n",
        "\n",
        "test_seq= tokenizer.texts_to_sequences(test_data)\n",
        "print(test_seq)"
      ],
      "metadata": {
        "colab": {
          "base_uri": "https://localhost:8080/"
        },
        "id": "vLPnmsb75ZoG",
        "outputId": "7f42dc5b-8e79-4688-8287-38b64d68179a"
      },
      "execution_count": null,
      "outputs": [
        {
          "output_type": "stream",
          "name": "stdout",
          "text": [
            "[[5, 1, 3, 2, 1, 1, 4], [2, 4, 1, 2, 1]]\n"
          ]
        }
      ]
    },
    {
      "cell_type": "markdown",
      "source": [
        "## Pad Sequences"
      ],
      "metadata": {
        "id": "Ey8ixOxu8Jho"
      }
    },
    {
      "cell_type": "code",
      "source": [
        "padded_seq=tf.keras.preprocessing.sequence.pad_sequences(sequences, padding=\"post\", maxlen=6,truncating=\"post\")\n",
        "print(padded_seq)"
      ],
      "metadata": {
        "colab": {
          "base_uri": "https://localhost:8080/"
        },
        "id": "KHzF64A96-nt",
        "outputId": "8d3b290f-a3e8-4b26-c868-28dad1d4b060"
      },
      "execution_count": null,
      "outputs": [
        {
          "output_type": "stream",
          "name": "stdout",
          "text": [
            "[[ 5  3  2  8  4  0]\n",
            " [ 5  3  2  9  0  0]\n",
            " [ 6  3  2  4  0  0]\n",
            " [10  6 11 12  2  4]\n",
            " [14  7 15 16 17 18]]\n"
          ]
        }
      ]
    },
    {
      "cell_type": "code",
      "source": [
        "!wget --no-check-certificate \\\n",
        "    https://storage.googleapis.com/learning-datasets/sarcasm.json \\\n",
        "    -O /tmp/sarcasm.json"
      ],
      "metadata": {
        "colab": {
          "base_uri": "https://localhost:8080/"
        },
        "id": "gC5aAjJL8VJa",
        "outputId": "21debb71-d4f1-4c15-cea1-0c508ce37506"
      },
      "execution_count": null,
      "outputs": [
        {
          "output_type": "stream",
          "name": "stdout",
          "text": [
            "--2024-08-06 14:26:18--  https://storage.googleapis.com/learning-datasets/sarcasm.json\n",
            "Resolving storage.googleapis.com (storage.googleapis.com)... 74.125.202.207, 74.125.69.207, 64.233.181.207, ...\n",
            "Connecting to storage.googleapis.com (storage.googleapis.com)|74.125.202.207|:443... connected.\n",
            "HTTP request sent, awaiting response... 200 OK\n",
            "Length: 5643545 (5.4M) [application/json]\n",
            "Saving to: ‘/tmp/sarcasm.json’\n",
            "\n",
            "\r/tmp/sarcasm.json     0%[                    ]       0  --.-KB/s               \r/tmp/sarcasm.json   100%[===================>]   5.38M  --.-KB/s    in 0.02s   \n",
            "\n",
            "2024-08-06 14:26:18 (234 MB/s) - ‘/tmp/sarcasm.json’ saved [5643545/5643545]\n",
            "\n"
          ]
        }
      ]
    },
    {
      "cell_type": "code",
      "source": [
        "import json\n",
        "with open(\"/tmp/sarcasm.json\", 'r') as f:\n",
        "    datastore = json.load(f)\n",
        "\n",
        "    sentences=[]\n",
        "    labels=[]\n",
        "\n",
        "    for item in datastore:\n",
        "        sentences.append(item['headline'])\n",
        "        labels.append(item['is_sarcastic'])"
      ],
      "metadata": {
        "id": "5vS1sU17FWgH"
      },
      "execution_count": null,
      "outputs": []
    },
    {
      "cell_type": "code",
      "source": [
        "vocab_size = 10000\n",
        "embedding_dim = 12\n",
        "max_length = 100\n",
        "trunc_type='post'\n",
        "padding_type='post'\n",
        "oov_tok = \"<OOV>\"\n",
        "training_size = 20000"
      ],
      "metadata": {
        "id": "hUIHyFevF5w6"
      },
      "execution_count": null,
      "outputs": []
    },
    {
      "cell_type": "code",
      "source": [
        "training_sentences = sentences[0:training_size]\n",
        "testing_sentences = sentences[training_size:]\n",
        "training_labels = labels[0:training_size]\n",
        "testing_labels = labels[training_size:]"
      ],
      "metadata": {
        "id": "VSXMgZdQFtY_"
      },
      "execution_count": null,
      "outputs": []
    },
    {
      "cell_type": "code",
      "source": [
        "tokenizer = Tokenizer(num_words=vocab_size, oov_token=oov_tok)\n",
        "tokenizer.fit_on_texts(training_sentences)\n",
        "\n",
        "word_index = tokenizer.word_index\n",
        "\n",
        "training_sequences = tokenizer.texts_to_sequences(training_sentences)\n",
        "training_padded = pad_sequences(training_sequences, maxlen=max_length, padding=padding_type, truncating=trunc_type)\n",
        "\n",
        "testing_sequences = tokenizer.texts_to_sequences(testing_sentences)\n",
        "testing_padded = pad_sequences(testing_sequences, maxlen=max_length, padding=padding_type, truncating=trunc_type)"
      ],
      "metadata": {
        "id": "557BqoYXPc42"
      },
      "execution_count": null,
      "outputs": []
    },
    {
      "cell_type": "code",
      "source": [
        "import numpy as np\n",
        "training_padded = np.array(training_padded)\n",
        "training_labels = np.array(training_labels)\n",
        "testing_padded = np.array(testing_padded)\n",
        "testing_labels = np.array(testing_labels)"
      ],
      "metadata": {
        "id": "QGOjSeOeGh7O"
      },
      "execution_count": null,
      "outputs": []
    },
    {
      "cell_type": "code",
      "source": [
        "model = tf.keras.Sequential([\n",
        "    tf.keras.layers.Embedding(vocab_size, embedding_dim, input_length=max_length),\n",
        "    tf.keras.layers.Bidirectional(tf.keras.layers.LSTM(64, return_sequences=True)),\n",
        "    tf.keras.layers.Bidirectional(tf.keras.layers.LSTM(32)),\n",
        "    tf.keras.layers.Dense(24, activation='relu'),\n",
        "    tf.keras.layers.Dense(30, activation='relu'),\n",
        "    tf.keras.layers.Dense(1, activation='sigmoid')\n",
        "])\n",
        "model.compile(loss='binary_crossentropy',optimizer='adam',metrics=['accuracy'])"
      ],
      "metadata": {
        "colab": {
          "base_uri": "https://localhost:8080/"
        },
        "id": "aqJvMYJcLIN7",
        "outputId": "82269dd8-eabe-4840-ecbe-8aa973037768"
      },
      "execution_count": null,
      "outputs": [
        {
          "output_type": "stream",
          "name": "stderr",
          "text": [
            "/usr/local/lib/python3.10/dist-packages/keras/src/layers/core/embedding.py:90: UserWarning: Argument `input_length` is deprecated. Just remove it.\n",
            "  warnings.warn(\n"
          ]
        }
      ]
    },
    {
      "cell_type": "code",
      "source": [
        "model.summary()"
      ],
      "metadata": {
        "colab": {
          "base_uri": "https://localhost:8080/",
          "height": 319
        },
        "id": "paUl6i3yP64X",
        "outputId": "415a4698-5c65-407d-a9f3-550654abf8c2"
      },
      "execution_count": null,
      "outputs": [
        {
          "output_type": "display_data",
          "data": {
            "text/plain": [
              "\u001b[1mModel: \"sequential_4\"\u001b[0m\n"
            ],
            "text/html": [
              "<pre style=\"white-space:pre;overflow-x:auto;line-height:normal;font-family:Menlo,'DejaVu Sans Mono',consolas,'Courier New',monospace\"><span style=\"font-weight: bold\">Model: \"sequential_4\"</span>\n",
              "</pre>\n"
            ]
          },
          "metadata": {}
        },
        {
          "output_type": "display_data",
          "data": {
            "text/plain": [
              "┏━━━━━━━━━━━━━━━━━━━━━━━━━━━━━━━━━━━━━━┳━━━━━━━━━━━━━━━━━━━━━━━━━━━━━┳━━━━━━━━━━━━━━━━━┓\n",
              "┃\u001b[1m \u001b[0m\u001b[1mLayer (type)                        \u001b[0m\u001b[1m \u001b[0m┃\u001b[1m \u001b[0m\u001b[1mOutput Shape               \u001b[0m\u001b[1m \u001b[0m┃\u001b[1m \u001b[0m\u001b[1m        Param #\u001b[0m\u001b[1m \u001b[0m┃\n",
              "┡━━━━━━━━━━━━━━━━━━━━━━━━━━━━━━━━━━━━━━╇━━━━━━━━━━━━━━━━━━━━━━━━━━━━━╇━━━━━━━━━━━━━━━━━┩\n",
              "│ embedding_4 (\u001b[38;5;33mEmbedding\u001b[0m)              │ ?                           │     \u001b[38;5;34m0\u001b[0m (unbuilt) │\n",
              "├──────────────────────────────────────┼─────────────────────────────┼─────────────────┤\n",
              "│ bidirectional_2 (\u001b[38;5;33mBidirectional\u001b[0m)      │ ?                           │     \u001b[38;5;34m0\u001b[0m (unbuilt) │\n",
              "├──────────────────────────────────────┼─────────────────────────────┼─────────────────┤\n",
              "│ bidirectional_3 (\u001b[38;5;33mBidirectional\u001b[0m)      │ ?                           │     \u001b[38;5;34m0\u001b[0m (unbuilt) │\n",
              "├──────────────────────────────────────┼─────────────────────────────┼─────────────────┤\n",
              "│ dense_11 (\u001b[38;5;33mDense\u001b[0m)                     │ ?                           │     \u001b[38;5;34m0\u001b[0m (unbuilt) │\n",
              "├──────────────────────────────────────┼─────────────────────────────┼─────────────────┤\n",
              "│ dense_12 (\u001b[38;5;33mDense\u001b[0m)                     │ ?                           │     \u001b[38;5;34m0\u001b[0m (unbuilt) │\n",
              "├──────────────────────────────────────┼─────────────────────────────┼─────────────────┤\n",
              "│ dense_13 (\u001b[38;5;33mDense\u001b[0m)                     │ ?                           │     \u001b[38;5;34m0\u001b[0m (unbuilt) │\n",
              "└──────────────────────────────────────┴─────────────────────────────┴─────────────────┘\n"
            ],
            "text/html": [
              "<pre style=\"white-space:pre;overflow-x:auto;line-height:normal;font-family:Menlo,'DejaVu Sans Mono',consolas,'Courier New',monospace\">┏━━━━━━━━━━━━━━━━━━━━━━━━━━━━━━━━━━━━━━┳━━━━━━━━━━━━━━━━━━━━━━━━━━━━━┳━━━━━━━━━━━━━━━━━┓\n",
              "┃<span style=\"font-weight: bold\"> Layer (type)                         </span>┃<span style=\"font-weight: bold\"> Output Shape                </span>┃<span style=\"font-weight: bold\">         Param # </span>┃\n",
              "┡━━━━━━━━━━━━━━━━━━━━━━━━━━━━━━━━━━━━━━╇━━━━━━━━━━━━━━━━━━━━━━━━━━━━━╇━━━━━━━━━━━━━━━━━┩\n",
              "│ embedding_4 (<span style=\"color: #0087ff; text-decoration-color: #0087ff\">Embedding</span>)              │ ?                           │     <span style=\"color: #00af00; text-decoration-color: #00af00\">0</span> (unbuilt) │\n",
              "├──────────────────────────────────────┼─────────────────────────────┼─────────────────┤\n",
              "│ bidirectional_2 (<span style=\"color: #0087ff; text-decoration-color: #0087ff\">Bidirectional</span>)      │ ?                           │     <span style=\"color: #00af00; text-decoration-color: #00af00\">0</span> (unbuilt) │\n",
              "├──────────────────────────────────────┼─────────────────────────────┼─────────────────┤\n",
              "│ bidirectional_3 (<span style=\"color: #0087ff; text-decoration-color: #0087ff\">Bidirectional</span>)      │ ?                           │     <span style=\"color: #00af00; text-decoration-color: #00af00\">0</span> (unbuilt) │\n",
              "├──────────────────────────────────────┼─────────────────────────────┼─────────────────┤\n",
              "│ dense_11 (<span style=\"color: #0087ff; text-decoration-color: #0087ff\">Dense</span>)                     │ ?                           │     <span style=\"color: #00af00; text-decoration-color: #00af00\">0</span> (unbuilt) │\n",
              "├──────────────────────────────────────┼─────────────────────────────┼─────────────────┤\n",
              "│ dense_12 (<span style=\"color: #0087ff; text-decoration-color: #0087ff\">Dense</span>)                     │ ?                           │     <span style=\"color: #00af00; text-decoration-color: #00af00\">0</span> (unbuilt) │\n",
              "├──────────────────────────────────────┼─────────────────────────────┼─────────────────┤\n",
              "│ dense_13 (<span style=\"color: #0087ff; text-decoration-color: #0087ff\">Dense</span>)                     │ ?                           │     <span style=\"color: #00af00; text-decoration-color: #00af00\">0</span> (unbuilt) │\n",
              "└──────────────────────────────────────┴─────────────────────────────┴─────────────────┘\n",
              "</pre>\n"
            ]
          },
          "metadata": {}
        },
        {
          "output_type": "display_data",
          "data": {
            "text/plain": [
              "\u001b[1m Total params: \u001b[0m\u001b[38;5;34m0\u001b[0m (0.00 B)\n"
            ],
            "text/html": [
              "<pre style=\"white-space:pre;overflow-x:auto;line-height:normal;font-family:Menlo,'DejaVu Sans Mono',consolas,'Courier New',monospace\"><span style=\"font-weight: bold\"> Total params: </span><span style=\"color: #00af00; text-decoration-color: #00af00\">0</span> (0.00 B)\n",
              "</pre>\n"
            ]
          },
          "metadata": {}
        },
        {
          "output_type": "display_data",
          "data": {
            "text/plain": [
              "\u001b[1m Trainable params: \u001b[0m\u001b[38;5;34m0\u001b[0m (0.00 B)\n"
            ],
            "text/html": [
              "<pre style=\"white-space:pre;overflow-x:auto;line-height:normal;font-family:Menlo,'DejaVu Sans Mono',consolas,'Courier New',monospace\"><span style=\"font-weight: bold\"> Trainable params: </span><span style=\"color: #00af00; text-decoration-color: #00af00\">0</span> (0.00 B)\n",
              "</pre>\n"
            ]
          },
          "metadata": {}
        },
        {
          "output_type": "display_data",
          "data": {
            "text/plain": [
              "\u001b[1m Non-trainable params: \u001b[0m\u001b[38;5;34m0\u001b[0m (0.00 B)\n"
            ],
            "text/html": [
              "<pre style=\"white-space:pre;overflow-x:auto;line-height:normal;font-family:Menlo,'DejaVu Sans Mono',consolas,'Courier New',monospace\"><span style=\"font-weight: bold\"> Non-trainable params: </span><span style=\"color: #00af00; text-decoration-color: #00af00\">0</span> (0.00 B)\n",
              "</pre>\n"
            ]
          },
          "metadata": {}
        }
      ]
    },
    {
      "cell_type": "code",
      "source": [
        "num_epochs = 30\n",
        "history = model.fit(training_padded, training_labels, epochs=num_epochs, validation_data=(testing_padded, testing_labels), verbose=2)"
      ],
      "metadata": {
        "colab": {
          "base_uri": "https://localhost:8080/"
        },
        "id": "vB9geynWP8ut",
        "outputId": "dc445207-362d-4a24-a4f4-0de8d392ad36"
      },
      "execution_count": null,
      "outputs": [
        {
          "output_type": "stream",
          "name": "stdout",
          "text": [
            "Epoch 1/30\n",
            "625/625 - 119s - 190ms/step - accuracy: 0.7990 - loss: 0.4099 - val_accuracy: 0.8593 - val_loss: 0.3293\n",
            "Epoch 2/30\n",
            "625/625 - 109s - 174ms/step - accuracy: 0.9097 - loss: 0.2241 - val_accuracy: 0.8591 - val_loss: 0.3459\n",
            "Epoch 3/30\n",
            "625/625 - 108s - 174ms/step - accuracy: 0.9410 - loss: 0.1550 - val_accuracy: 0.8460 - val_loss: 0.4054\n",
            "Epoch 4/30\n",
            "625/625 - 149s - 238ms/step - accuracy: 0.9628 - loss: 0.1017 - val_accuracy: 0.8480 - val_loss: 0.4588\n",
            "Epoch 5/30\n",
            "625/625 - 135s - 216ms/step - accuracy: 0.9775 - loss: 0.0667 - val_accuracy: 0.8441 - val_loss: 0.5272\n",
            "Epoch 6/30\n",
            "625/625 - 146s - 233ms/step - accuracy: 0.9858 - loss: 0.0413 - val_accuracy: 0.8416 - val_loss: 0.6320\n",
            "Epoch 7/30\n",
            "625/625 - 109s - 174ms/step - accuracy: 0.9908 - loss: 0.0274 - val_accuracy: 0.8377 - val_loss: 0.7073\n",
            "Epoch 8/30\n",
            "625/625 - 142s - 228ms/step - accuracy: 0.9930 - loss: 0.0202 - val_accuracy: 0.8378 - val_loss: 0.7489\n",
            "Epoch 9/30\n",
            "625/625 - 143s - 228ms/step - accuracy: 0.9952 - loss: 0.0157 - val_accuracy: 0.8386 - val_loss: 0.8668\n",
            "Epoch 10/30\n",
            "625/625 - 141s - 225ms/step - accuracy: 0.9959 - loss: 0.0129 - val_accuracy: 0.8363 - val_loss: 0.9457\n",
            "Epoch 11/30\n",
            "625/625 - 142s - 227ms/step - accuracy: 0.9949 - loss: 0.0154 - val_accuracy: 0.8305 - val_loss: 0.9765\n",
            "Epoch 12/30\n",
            "625/625 - 141s - 225ms/step - accuracy: 0.9967 - loss: 0.0098 - val_accuracy: 0.8363 - val_loss: 1.0444\n",
            "Epoch 13/30\n",
            "625/625 - 145s - 232ms/step - accuracy: 0.9972 - loss: 0.0084 - val_accuracy: 0.8265 - val_loss: 0.8834\n",
            "Epoch 14/30\n",
            "625/625 - 139s - 222ms/step - accuracy: 0.9983 - loss: 0.0061 - val_accuracy: 0.8344 - val_loss: 1.1583\n",
            "Epoch 15/30\n",
            "625/625 - 141s - 225ms/step - accuracy: 0.9976 - loss: 0.0071 - val_accuracy: 0.8346 - val_loss: 1.0985\n",
            "Epoch 16/30\n",
            "625/625 - 107s - 172ms/step - accuracy: 0.9977 - loss: 0.0068 - val_accuracy: 0.8357 - val_loss: 1.0620\n",
            "Epoch 17/30\n",
            "625/625 - 144s - 231ms/step - accuracy: 0.9976 - loss: 0.0058 - val_accuracy: 0.8317 - val_loss: 1.1124\n",
            "Epoch 18/30\n",
            "625/625 - 142s - 227ms/step - accuracy: 0.9982 - loss: 0.0048 - val_accuracy: 0.8256 - val_loss: 1.2153\n",
            "Epoch 19/30\n",
            "625/625 - 139s - 223ms/step - accuracy: 0.9987 - loss: 0.0042 - val_accuracy: 0.8310 - val_loss: 1.2105\n",
            "Epoch 20/30\n",
            "625/625 - 107s - 172ms/step - accuracy: 0.9989 - loss: 0.0041 - val_accuracy: 0.8295 - val_loss: 1.1940\n",
            "Epoch 21/30\n",
            "625/625 - 107s - 172ms/step - accuracy: 0.9994 - loss: 0.0019 - val_accuracy: 0.8217 - val_loss: 1.6834\n",
            "Epoch 22/30\n",
            "625/625 - 142s - 227ms/step - accuracy: 0.9993 - loss: 0.0027 - val_accuracy: 0.8275 - val_loss: 1.3946\n",
            "Epoch 23/30\n",
            "625/625 - 106s - 170ms/step - accuracy: 0.9994 - loss: 0.0020 - val_accuracy: 0.8272 - val_loss: 1.6666\n",
            "Epoch 24/30\n",
            "625/625 - 143s - 228ms/step - accuracy: 0.9987 - loss: 0.0041 - val_accuracy: 0.8234 - val_loss: 1.2107\n",
            "Epoch 25/30\n",
            "625/625 - 142s - 227ms/step - accuracy: 0.9979 - loss: 0.0068 - val_accuracy: 0.8286 - val_loss: 1.3686\n",
            "Epoch 26/30\n",
            "625/625 - 142s - 227ms/step - accuracy: 0.9989 - loss: 0.0032 - val_accuracy: 0.8246 - val_loss: 1.3632\n",
            "Epoch 27/30\n",
            "625/625 - 142s - 227ms/step - accuracy: 0.9990 - loss: 0.0036 - val_accuracy: 0.8249 - val_loss: 1.5327\n",
            "Epoch 28/30\n",
            "625/625 - 140s - 224ms/step - accuracy: 0.9994 - loss: 0.0019 - val_accuracy: 0.8267 - val_loss: 1.5410\n",
            "Epoch 29/30\n",
            "625/625 - 142s - 228ms/step - accuracy: 0.9995 - loss: 0.0014 - val_accuracy: 0.8299 - val_loss: 1.6353\n",
            "Epoch 30/30\n",
            "625/625 - 144s - 231ms/step - accuracy: 0.9997 - loss: 9.7172e-04 - val_accuracy: 0.8228 - val_loss: 1.6797\n"
          ]
        }
      ]
    },
    {
      "cell_type": "code",
      "source": [
        "import matplotlib.pyplot as plt\n",
        "\n",
        "\n",
        "def plot_graphs(history, string):\n",
        "  plt.plot(history.history[string])\n",
        "  plt.plot(history.history['val_'+string])\n",
        "  plt.xlabel(\"Epochs\")\n",
        "  plt.ylabel(string)\n",
        "  plt.legend([string, 'val_'+string])\n",
        "  plt.show()\n",
        "\n",
        "plot_graphs(history, \"accuracy\")\n",
        "plot_graphs(history, \"loss\")"
      ],
      "metadata": {
        "colab": {
          "base_uri": "https://localhost:8080/",
          "height": 883
        },
        "id": "AIsLvL6dQOw9",
        "outputId": "f9d66777-23e3-4a81-ebc4-23f283fc5568"
      },
      "execution_count": null,
      "outputs": [
        {
          "output_type": "display_data",
          "data": {
            "text/plain": [
              "<Figure size 640x480 with 1 Axes>"
            ],
            "image/png": "[encoded data removed]"
          },
          "metadata": {}
        },
        {
          "output_type": "display_data",
          "data": {
            "text/plain": [
              "<Figure size 640x480 with 1 Axes>"
            ],
            "image/png": "[encoded data removed]"
          },
          "metadata": {}
        }
      ]
    },
    {
      "cell_type": "code",
      "source": [],
      "metadata": {
        "id": "vBLWCBmjS_Oh"
      },
      "execution_count": null,
      "outputs": []
    }
  ]
}